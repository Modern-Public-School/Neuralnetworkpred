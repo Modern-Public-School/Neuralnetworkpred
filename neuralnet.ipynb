{
 "cells": [
  {
   "cell_type": "markdown",
   "metadata": {},
   "source": [
    "neuralnetwork\\Scripts\\Activate.bat"
   ]
  },
  {
   "cell_type": "code",
   "execution_count": null,
   "metadata": {},
   "outputs": [],
   "source": [
    "print('lol')"
   ]
  }
 ],
 "metadata": {
  "kernelspec": {
   "display_name": "neuralnetwork",
   "language": "python",
   "name": "python3"
  },
  "language_info": {
   "name": "python",
   "version": "3.8.0"
  }
 },
 "nbformat": 4,
 "nbformat_minor": 2
}
